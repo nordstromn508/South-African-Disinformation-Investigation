{
 "cells": [
  {
   "cell_type": "code",
   "execution_count": 74,
   "id": "0d95e592-b588-4651-b53f-4328de94cadc",
   "metadata": {},
   "outputs": [],
   "source": [
    "import re\n",
    "import pandas as pd\n",
    "import numpy as np\n",
    "import string\n",
    "from collections import Counter"
   ]
  },
  {
   "cell_type": "code",
   "execution_count": 32,
   "id": "4d0bd8a4-0c2c-4f04-a95a-cb25fd90e22e",
   "metadata": {},
   "outputs": [
    {
     "name": "stdout",
     "output_type": "stream",
     "text": [
      "['hinnews.com' 'mzanzi stories' 'sa-news' 'search67' 'whatsappgroup.co.za'\n",
      " 'trendsdaily.co.za']\n"
     ]
    }
   ],
   "source": [
    "df = pd.read_excel ('./Data/Dataset.xlsx')\n",
    "df = df.drop(['url'], axis=1)\n",
    "df = df.dropna()\n",
    "print(df['medium'].unique())"
   ]
  },
  {
   "cell_type": "code",
   "execution_count": 57,
   "id": "ee779436-60d0-4505-8a0f-bf12c2633d46",
   "metadata": {},
   "outputs": [],
   "source": [
    "#by medium\n",
    "def get_data_by_medium(df, medium):\n",
    "    return df[df['medium']== medium]\n",
    "\n",
    "#by year\n",
    "def get_data_by_year(df, year):\n",
    "    return df.loc[df['published_date'].astype(str).str.contains(str(year))]\n",
    "\n",
    "def get_titles(df):\n",
    "    return df['title']\n",
    "\n",
    "def get_text(df):\n",
    "    return df['text']\n",
    "\n",
    "def get(df, years, medium='all'):\n",
    "    titles = []\n",
    "    text = []\n",
    "    source = df\n",
    "    \n",
    "    if medium != 'all':\n",
    "        source = get_data_by_medium(df, medium)\n",
    "        \n",
    "    for y in years:\n",
    "        data = get_data_by_year(source, y)\n",
    "        ttl = get_titles(data).tolist()\n",
    "        txt = get_text(data).tolist()\n",
    "        titles += ttl\n",
    "        text += txt\n",
    "        \n",
    "    return titles, text"
   ]
  },
  {
   "cell_type": "code",
   "execution_count": 145,
   "id": "b42a8e04-7748-4823-9f2c-3b4def260e0f",
   "metadata": {},
   "outputs": [],
   "source": [
    "def count_word(list):\n",
    "    counts = {}\n",
    "    total_words = 0;\n",
    "    for s in list:\n",
    "        words = s.lower().translate(str.maketrans('', '', string.punctuation)).split(' ')\n",
    "        total_words += len(words)\n",
    "        occurance = Counter(words)\n",
    "        for key in occurance:\n",
    "            if key in counts:\n",
    "                counts[key] += occurance[key]\n",
    "            else:\n",
    "                counts[key] = occurance[key]\n",
    "        desc = []\n",
    "        for k,v in counts.items():\n",
    "            desc.append((v, k))\n",
    "\n",
    "\n",
    "        desc = sorted(desc, reverse=True)\n",
    "\n",
    "    return total_words, counts, desc\n",
    "\n",
    "def get_occurance(dic, words):\n",
    "    result = 0\n",
    "    for w in words:\n",
    "        result += dic[w]\n",
    "    return result\n",
    "\n",
    "#total number of words, dictionary of each word occurance, occurance in descending order\n",
    "total_words, dic, desc = count_word(titles_2019)"
   ]
  },
  {
   "cell_type": "code",
   "execution_count": 150,
   "id": "82c772c9-cfc3-4f17-871a-f6bb060d5df0",
   "metadata": {},
   "outputs": [
    {
     "data": {
      "text/plain": [
       "57"
      ]
     },
     "execution_count": 150,
     "metadata": {},
     "output_type": "execute_result"
    }
   ],
   "source": [
    "titles_2017, text_2017 = get(df, [2017])\n",
    "len(titles_2017)"
   ]
  },
  {
   "cell_type": "code",
   "execution_count": 154,
   "id": "88a8b9de-e4a0-47d1-9f77-40f712dc0fa1",
   "metadata": {},
   "outputs": [
    {
     "name": "stdout",
     "output_type": "stream",
     "text": [
      "(84, 'of')\n",
      "(82, 'to')\n",
      "(62, 'the')\n",
      "(59, 'for')\n",
      "(56, 'a')\n",
      "(54, 'and')\n",
      "(51, 'on')\n",
      "(49, '')\n",
      "(33, 'video')\n",
      "(25, 'her')\n",
      "(25, 'after')\n",
      "(24, 'with')\n",
      "(23, 'from')\n",
      "(22, 'police')\n",
      "(22, 'as')\n",
      "(21, 'pictures')\n",
      "(21, 'over')\n",
      "(21, 'man')\n",
      "(21, 'killed')\n"
     ]
    }
   ],
   "source": [
    "titles_2019, text_2019 = get(df, [2019])\n",
    "len(titles_2019)\n",
    "total_words, dic, desc = count_word(titles_2019)\n",
    "\n",
    "#2019 title most used words:\n",
    "for i in range(1,20):\n",
    "    print(desc[i])"
   ]
  },
  {
   "cell_type": "code",
   "execution_count": 151,
   "id": "4a9a5672-25c2-4a24-9c2e-0a5e302a16d7",
   "metadata": {},
   "outputs": [
    {
     "name": "stdout",
     "output_type": "stream",
     "text": [
      "Female topic occurance: 64\n",
      "Male topic occurance: 64\n",
      "Politics topic occurance: 24\n",
      "public safety topic occurance: 54\n"
     ]
    }
   ],
   "source": [
    "\n",
    "print(\"Female topic occurance: {}\".format(\n",
    "    get_occurance(dic, ['female', 'woman', 'women', 'her', 'she', 'mother', 'grandmother', 'stepmother', 'wife'])\n",
    "))\n",
    "print(\"Male topic occurance: {}\".format(\n",
    "    get_occurance(dic, ['male', 'man', 'men', 'he', 'his', 'him', 'father', 'grandfather', 'husband', 'shooting'])\n",
    "))\n",
    "print(\"Politics topic occurance: {}\".format(\n",
    "    get_occurance(dic, ['eff', 'president', 'nations', 'nation'])\n",
    "))\n",
    "print(\"public safety topic occurance: {}\".format(\n",
    "    get_occurance(dic, ['police', 'murder', 'illegal', 'thief', 'kill', 'murdered', 'robber', 'beating', 'arms', 'arrest', 'rape',\n",
    "                       'stabbed', 'stealing'])\n",
    "))"
   ]
  },
  {
   "cell_type": "code",
   "execution_count": null,
   "id": "a27c390a-e5d5-4b18-8576-e891d3f6ef1e",
   "metadata": {},
   "outputs": [],
   "source": []
  },
  {
   "cell_type": "code",
   "execution_count": null,
   "id": "7e7bfce3-a2d1-4806-9964-b2b4e8e38641",
   "metadata": {},
   "outputs": [],
   "source": []
  },
  {
   "cell_type": "code",
   "execution_count": null,
   "id": "aec0d1ba-6217-4f69-a4fe-413aa28fab79",
   "metadata": {},
   "outputs": [],
   "source": []
  }
 ],
 "metadata": {
  "kernelspec": {
   "display_name": "Python 3",
   "language": "python",
   "name": "python3"
  },
  "language_info": {
   "codemirror_mode": {
    "name": "ipython",
    "version": 3
   },
   "file_extension": ".py",
   "mimetype": "text/x-python",
   "name": "python",
   "nbconvert_exporter": "python",
   "pygments_lexer": "ipython3",
   "version": "3.8.8"
  }
 },
 "nbformat": 4,
 "nbformat_minor": 5
}
